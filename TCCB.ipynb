{
 "cells": [
  {
   "cell_type": "code",
   "execution_count": 2,
   "metadata": {},
   "outputs": [],
   "source": [
    "import pandas as pd\n",
    "import vnstock as vs\n",
    "import numpy as np\n",
    "from sklearn.model_selection import train_test_split\n",
    "import statsmodels.api as sm\n",
    "from sklearn.metrics import confusion_matrix\n",
    "\n",
    "\n",
    "import datetime as dt\n",
    "import matplotlib.pyplot as plt\n",
    "import statsmodels.api as sm\n",
    "from sklearn import metrics\n",
    "from sklearn.metrics import mean_squared_error\n",
    "import seaborn as sns\n",
    "import joblib"
   ]
  },
  {
   "cell_type": "code",
   "execution_count": 3,
   "metadata": {},
   "outputs": [
    {
     "name": "stdout",
     "output_type": "stream",
     "text": [
      "        Open     High      Low    Close   Volume TradingDate\n",
      "0    23550.0  23850.0  23500.0  23800.0  1387610  2020-01-02\n",
      "1    23900.0  23950.0  23650.0  23650.0   756700  2020-01-03\n",
      "2    23400.0  23400.0  23050.0  23050.0  1162990  2020-01-06\n",
      "3    23050.0  23200.0  23000.0  23200.0  1043300  2020-01-07\n",
      "4    22800.0  23050.0  22600.0  22750.0  1710390  2020-01-08\n",
      "..       ...      ...      ...      ...      ...         ...\n",
      "746  27250.0  27400.0  25700.0  25700.0  7545177  2022-12-26\n",
      "747  25600.0  26300.0  25400.0  26300.0  4427020  2022-12-27\n",
      "748  26100.0  26450.0  25750.0  26150.0  3299598  2022-12-28\n",
      "749  26100.0  26300.0  25750.0  25950.0  2935675  2022-12-29\n",
      "750  25950.0  26100.0  25850.0  25850.0  2182511  2022-12-30\n",
      "\n",
      "[751 rows x 6 columns]\n"
     ]
    }
   ],
   "source": [
    "# crawling data\n",
    "ticker = \"TCB\"\n",
    "df = vs.stock_historical_data(symbol='TCB',start_date='2020-01-01', end_date='2023-01-01')\n",
    "print(df)"
   ]
  },
  {
   "cell_type": "code",
   "execution_count": 10,
   "metadata": {},
   "outputs": [],
   "source": [
    "y = np.where(df['Close'] > df['Close'].shift(-1), 1, 0)\n",
    "\n",
    "# Chọn biến đầu vào\n",
    "X = df[['Open', 'High', 'Low', 'Volume']]\n",
    "\n",
    "# Chia tập dữ liệu thành tập huấn luyện và tập kiểm tra\n",
    "x_train, x_test, y_train, y_test = train_test_split(X, y, test_size=0.3, random_state=42)"
   ]
  },
  {
   "cell_type": "code",
   "execution_count": 11,
   "metadata": {},
   "outputs": [],
   "source": [
    "# Thêm intercept vào ma trận X\n",
    "X = sm.add_constant(X)"
   ]
  },
  {
   "cell_type": "code",
   "execution_count": 12,
   "metadata": {},
   "outputs": [],
   "source": [
    "# Chia tập dữ liệu thành tập train và test\n",
    "X_train, X_test, y_train, y_test = train_test_split(X, y, test_size=0.3, random_state=42)"
   ]
  },
  {
   "cell_type": "code",
   "execution_count": 13,
   "metadata": {},
   "outputs": [
    {
     "name": "stdout",
     "output_type": "stream",
     "text": [
      "Optimization terminated successfully.\n",
      "         Current function value: 0.681045\n",
      "         Iterations 4\n"
     ]
    }
   ],
   "source": [
    "# Sử dụng mô hình hồi quy logistic để dự đoán xác suất tăng giá cổ phiếu trên tập test\n",
    "logit_model = sm.Logit(y_train, X_train).fit()\n",
    "y_pred = logit_model.predict(X_test) > 0.5\n",
    "\n",
    "# Chuyển đổi y_pred thành nhị phân với ngưỡng 0.5\n",
    "y_pred_binary = np.where(y_pred > 0.5, 1, 0)"
   ]
  },
  {
   "cell_type": "code",
   "execution_count": 15,
   "metadata": {},
   "outputs": [
    {
     "data": {
      "image/png": "[encoded data removed]",
      "text/plain": [
       "<Figure size 640x480 with 1 Axes>"
      ]
     },
     "metadata": {},
     "output_type": "display_data"
    }
   ],
   "source": [
    "# Tính toán confusion matrix\n",
    "cm = confusion_matrix(y_test, y_pred_binary)\n",
    "\n",
    "# Vẽ biểu đồ confusion matrix\n",
    "sns.heatmap(cm, annot=True, cmap=\"Blues\", fmt=\"d\", annot_kws={\"size\": 20}, cbar=False, xticklabels=['Predicted 0', 'Predicted 1'], yticklabels=['Actual 0', 'Actual 1'])\n",
    "plt.xlabel(\"Predicted label\", fontsize=20)\n",
    "plt.ylabel(\"True label\", fontsize=20)\n",
    "plt.show()"
   ]
  },
  {
   "cell_type": "code",
   "execution_count": 16,
   "metadata": {},
   "outputs": [
    {
     "name": "stdout",
     "output_type": "stream",
     "text": [
      "Accuracy: 0.5309734513274337\n",
      "Precision: 0.38461538461538464\n",
      "Recall: 0.27472527472527475\n"
     ]
    }
   ],
   "source": [
    "# Đánh giá mô hình trên tập kiểm tra\n",
    "accuracy = metrics.accuracy_score(y_test, y_pred_binary)\n",
    "precision = metrics.precision_score(y_test, y_pred_binary)\n",
    "recall = metrics.recall_score(y_test, y_pred_binary)\n",
    "\n",
    "print(\"Accuracy:\", accuracy)\n",
    "print(\"Precision:\", precision)\n",
    "print(\"Recall:\", recall)\n"
   ]
  },
  {
   "cell_type": "code",
   "execution_count": null,
   "metadata": {},
   "outputs": [],
   "source": [
    "# xây dựng hàm loss function bằng phương pháp MLE\n",
    "def loss_function(beta, X, y):\n",
    "    # tính giá trị dự đoán\n",
    "    z = np.dot(X, beta)\n",
    "    y_hat = 1 / (1 + np.exp(-z))\n",
    "\n",
    "    # tính log likelihood\n",
    "    log_likelihood = np.sum(y * np.log(y_hat) + (1 - y) * np.log(1 - y_hat))\n",
    "\n",
    "    # đảo dấu để tối đa hóa\n",
    "    return -log_likelihood"
   ]
  },
  {
   "cell_type": "code",
   "execution_count": null,
   "metadata": {},
   "outputs": [
    {
     "name": "stderr",
     "output_type": "stream",
     "text": [
      "C:\\Users\\truon\\AppData\\Local\\Temp\\ipykernel_11948\\1132143509.py:5: RuntimeWarning: overflow encountered in exp\n",
      "  y_hat = 1 / (1 + np.exp(-z))\n",
      "C:\\Users\\truon\\AppData\\Local\\Temp\\ipykernel_11948\\1132143509.py:8: RuntimeWarning: divide by zero encountered in log\n",
      "  log_likelihood = np.sum(y * np.log(y_hat) + (1 - y) * np.log(1 - y_hat))\n",
      "C:\\Users\\truon\\AppData\\Local\\Temp\\ipykernel_11948\\1132143509.py:8: RuntimeWarning: invalid value encountered in multiply\n",
      "  log_likelihood = np.sum(y * np.log(y_hat) + (1 - y) * np.log(1 - y_hat))\n"
     ]
    },
    {
     "name": "stdout",
     "output_type": "stream",
     "text": [
      "Beta:  [-4.57832467e-05 -9.33027512e-01 -9.61306999e-01 -9.07428104e-01\n",
      " -1.03423873e+03]\n"
     ]
    },
    {
     "name": "stderr",
     "output_type": "stream",
     "text": [
      "C:\\Users\\truon\\AppData\\Local\\Temp\\ipykernel_11948\\1132143509.py:5: RuntimeWarning: overflow encountered in exp\n",
      "  y_hat = 1 / (1 + np.exp(-z))\n",
      "C:\\Users\\truon\\AppData\\Local\\Temp\\ipykernel_11948\\1132143509.py:8: RuntimeWarning: divide by zero encountered in log\n",
      "  log_likelihood = np.sum(y * np.log(y_hat) + (1 - y) * np.log(1 - y_hat))\n",
      "C:\\Users\\truon\\AppData\\Local\\Temp\\ipykernel_11948\\1132143509.py:8: RuntimeWarning: invalid value encountered in multiply\n",
      "  log_likelihood = np.sum(y * np.log(y_hat) + (1 - y) * np.log(1 - y_hat))\n",
      "C:\\Users\\truon\\AppData\\Local\\Temp\\ipykernel_11948\\1132143509.py:5: RuntimeWarning: overflow encountered in exp\n",
      "  y_hat = 1 / (1 + np.exp(-z))\n",
      "C:\\Users\\truon\\AppData\\Local\\Temp\\ipykernel_11948\\1132143509.py:8: RuntimeWarning: divide by zero encountered in log\n",
      "  log_likelihood = np.sum(y * np.log(y_hat) + (1 - y) * np.log(1 - y_hat))\n",
      "C:\\Users\\truon\\AppData\\Local\\Temp\\ipykernel_11948\\1132143509.py:8: RuntimeWarning: invalid value encountered in multiply\n",
      "  log_likelihood = np.sum(y * np.log(y_hat) + (1 - y) * np.log(1 - y_hat))\n"
     ]
    }
   ],
   "source": [
    "from scipy.optimize import minimize\n",
    "\n",
    "# tìm giá trị beta tối ưu\n",
    "beta_init = np.zeros(X_train.shape[1])\n",
    "res = minimize(loss_function, beta_init, args=(X_train, y_train))\n",
    "\n",
    "# in ra giá trị beta tối ưu\n",
    "print('Beta: ', res.x)\n"
   ]
  }
 ],
 "metadata": {
  "kernelspec": {
   "display_name": "Python 3",
   "language": "python",
   "name": "python3"
  },
  "language_info": {
   "codemirror_mode": {
    "name": "ipython",
    "version": 3
   },
   "file_extension": ".py",
   "mimetype": "text/x-python",
   "name": "python",
   "nbconvert_exporter": "python",
   "pygments_lexer": "ipython3",
   "version": "3.11.1"
  },
  "orig_nbformat": 4,
  "vscode": {
   "interpreter": {
    "hash": "bb8a8250a56f4664272324c07b785d1267f4328f3b9b6b39cf46191294ae8667"
   }
  }
 },
 "nbformat": 4,
 "nbformat_minor": 2
}
